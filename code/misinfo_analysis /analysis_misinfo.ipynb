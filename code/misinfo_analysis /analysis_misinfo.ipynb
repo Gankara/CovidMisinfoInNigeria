{
 "cells": [
  {
   "cell_type": "code",
   "execution_count": 1,
   "id": "posted-depth",
   "metadata": {},
   "outputs": [],
   "source": [
    "import pandas as pd\n",
    "import numpy as np"
   ]
  },
  {
   "cell_type": "code",
   "execution_count": 2,
   "id": "proved-oriental",
   "metadata": {},
   "outputs": [],
   "source": [
    "tweets = pd.read_csv('tweets_no_dupes_v2.csv', index_col=0)"
   ]
  },
  {
   "cell_type": "code",
   "execution_count": 3,
   "id": "acoustic-weapon",
   "metadata": {},
   "outputs": [
    {
     "data": {
      "text/plain": [
       "(185661, 38)"
      ]
     },
     "execution_count": 3,
     "metadata": {},
     "output_type": "execute_result"
    }
   ],
   "source": [
    "tweets.shape"
   ]
  },
  {
   "cell_type": "code",
   "execution_count": 4,
   "id": "dangerous-plastic",
   "metadata": {},
   "outputs": [
    {
     "data": {
      "text/html": [
       "<div>\n",
       "<style scoped>\n",
       "    .dataframe tbody tr th:only-of-type {\n",
       "        vertical-align: middle;\n",
       "    }\n",
       "\n",
       "    .dataframe tbody tr th {\n",
       "        vertical-align: top;\n",
       "    }\n",
       "\n",
       "    .dataframe thead th {\n",
       "        text-align: right;\n",
       "    }\n",
       "</style>\n",
       "<table border=\"1\" class=\"dataframe\">\n",
       "  <thead>\n",
       "    <tr style=\"text-align: right;\">\n",
       "      <th></th>\n",
       "      <th>tweet_created_at</th>\n",
       "      <th>tweet_id</th>\n",
       "      <th>tweet_id_str</th>\n",
       "      <th>tweet_text</th>\n",
       "      <th>tweet_truncated</th>\n",
       "      <th>tweet_source</th>\n",
       "      <th>tweet_in_reply_to_status_id</th>\n",
       "      <th>tweet_in_reply_to_status_id_str</th>\n",
       "      <th>tweet_in_reply_to_user_id</th>\n",
       "      <th>tweet_in_reply_to_user_id_str</th>\n",
       "      <th>...</th>\n",
       "      <th>tweet_place_contained_within</th>\n",
       "      <th>tweet_place_bounding_box_type</th>\n",
       "      <th>tweet_place_bounding_box_coordinates</th>\n",
       "      <th>tweet_geo_type</th>\n",
       "      <th>tweet_geo_coordinates</th>\n",
       "      <th>tweet_coordinates_type</th>\n",
       "      <th>tweet_coordinates_coordinates</th>\n",
       "      <th>tweet_lang</th>\n",
       "      <th>tweet_full_text</th>\n",
       "      <th>search_tweets</th>\n",
       "    </tr>\n",
       "  </thead>\n",
       "  <tbody>\n",
       "    <tr>\n",
       "      <th>0</th>\n",
       "      <td>Fri Oct 30 23:48:05 +0000 2020</td>\n",
       "      <td>1322324427653132288</td>\n",
       "      <td>1322324427653132288</td>\n",
       "      <td>Nigerians are so over COVID, they don’t even b...</td>\n",
       "      <td>False</td>\n",
       "      <td>&lt;a href=\"http://twitter.com/download/iphone\" r...</td>\n",
       "      <td>None</td>\n",
       "      <td>None</td>\n",
       "      <td>None</td>\n",
       "      <td>None</td>\n",
       "      <td>...</td>\n",
       "      <td>NaN</td>\n",
       "      <td>Polygon</td>\n",
       "      <td>[[[3.402322, 6.396264], [3.402322, 6.486797], ...</td>\n",
       "      <td>NaN</td>\n",
       "      <td>NaN</td>\n",
       "      <td>NaN</td>\n",
       "      <td>NaN</td>\n",
       "      <td>en</td>\n",
       "      <td>NaN</td>\n",
       "      <td>Covid</td>\n",
       "    </tr>\n",
       "    <tr>\n",
       "      <th>1</th>\n",
       "      <td>Fri Oct 30 23:08:10 +0000 2020</td>\n",
       "      <td>1322314381926010880</td>\n",
       "      <td>1322314381926010880</td>\n",
       "      <td>Nigerians no even let covid settle. Is it here...</td>\n",
       "      <td>False</td>\n",
       "      <td>&lt;a href=\"http://twitter.com/download/android\" ...</td>\n",
       "      <td>None</td>\n",
       "      <td>None</td>\n",
       "      <td>None</td>\n",
       "      <td>None</td>\n",
       "      <td>...</td>\n",
       "      <td>NaN</td>\n",
       "      <td>Polygon</td>\n",
       "      <td>[[[3.402322, 6.396264], [3.402322, 6.486797], ...</td>\n",
       "      <td>NaN</td>\n",
       "      <td>NaN</td>\n",
       "      <td>NaN</td>\n",
       "      <td>NaN</td>\n",
       "      <td>en</td>\n",
       "      <td>NaN</td>\n",
       "      <td>Covid</td>\n",
       "    </tr>\n",
       "    <tr>\n",
       "      <th>2</th>\n",
       "      <td>Fri Oct 30 22:44:29 +0000 2020</td>\n",
       "      <td>1322308420842770433</td>\n",
       "      <td>1322308420842770433</td>\n",
       "      <td>Covid was on holiday sha!!!! Awon alase https:...</td>\n",
       "      <td>False</td>\n",
       "      <td>&lt;a href=\"http://twitter.com/download/iphone\" r...</td>\n",
       "      <td>None</td>\n",
       "      <td>None</td>\n",
       "      <td>None</td>\n",
       "      <td>None</td>\n",
       "      <td>...</td>\n",
       "      <td>NaN</td>\n",
       "      <td>Polygon</td>\n",
       "      <td>[[[3.26291, 6.639331], [3.26291, 6.740074], [3...</td>\n",
       "      <td>NaN</td>\n",
       "      <td>NaN</td>\n",
       "      <td>NaN</td>\n",
       "      <td>NaN</td>\n",
       "      <td>en</td>\n",
       "      <td>NaN</td>\n",
       "      <td>Covid</td>\n",
       "    </tr>\n",
       "    <tr>\n",
       "      <th>3</th>\n",
       "      <td>Fri Oct 30 22:43:42 +0000 2020</td>\n",
       "      <td>1322308224654151681</td>\n",
       "      <td>1322308224654151681</td>\n",
       "      <td>Covid-19 is backBe careful guys. Use your mask...</td>\n",
       "      <td>False</td>\n",
       "      <td>&lt;a href=\"http://twitter.com/download/android\" ...</td>\n",
       "      <td>None</td>\n",
       "      <td>None</td>\n",
       "      <td>None</td>\n",
       "      <td>None</td>\n",
       "      <td>...</td>\n",
       "      <td>NaN</td>\n",
       "      <td>Polygon</td>\n",
       "      <td>[[[3.198942, 6.482676], [3.198942, 6.698546], ...</td>\n",
       "      <td>NaN</td>\n",
       "      <td>NaN</td>\n",
       "      <td>NaN</td>\n",
       "      <td>NaN</td>\n",
       "      <td>en</td>\n",
       "      <td>NaN</td>\n",
       "      <td>Covid</td>\n",
       "    </tr>\n",
       "    <tr>\n",
       "      <th>4</th>\n",
       "      <td>Fri Oct 30 22:38:25 +0000 2020</td>\n",
       "      <td>1322306894581649415</td>\n",
       "      <td>1322306894581649415</td>\n",
       "      <td>COVId in Lagos - quite worrisome https://t.co/...</td>\n",
       "      <td>False</td>\n",
       "      <td>&lt;a href=\"http://twitter.com/download/iphone\" r...</td>\n",
       "      <td>None</td>\n",
       "      <td>None</td>\n",
       "      <td>None</td>\n",
       "      <td>None</td>\n",
       "      <td>...</td>\n",
       "      <td>NaN</td>\n",
       "      <td>Polygon</td>\n",
       "      <td>[[[3.198942, 6.482676], [3.198942, 6.698546], ...</td>\n",
       "      <td>NaN</td>\n",
       "      <td>NaN</td>\n",
       "      <td>NaN</td>\n",
       "      <td>NaN</td>\n",
       "      <td>en</td>\n",
       "      <td>NaN</td>\n",
       "      <td>Covid</td>\n",
       "    </tr>\n",
       "  </tbody>\n",
       "</table>\n",
       "<p>5 rows × 38 columns</p>\n",
       "</div>"
      ],
      "text/plain": [
       "                 tweet_created_at             tweet_id         tweet_id_str  \\\n",
       "0  Fri Oct 30 23:48:05 +0000 2020  1322324427653132288  1322324427653132288   \n",
       "1  Fri Oct 30 23:08:10 +0000 2020  1322314381926010880  1322314381926010880   \n",
       "2  Fri Oct 30 22:44:29 +0000 2020  1322308420842770433  1322308420842770433   \n",
       "3  Fri Oct 30 22:43:42 +0000 2020  1322308224654151681  1322308224654151681   \n",
       "4  Fri Oct 30 22:38:25 +0000 2020  1322306894581649415  1322306894581649415   \n",
       "\n",
       "                                          tweet_text tweet_truncated  \\\n",
       "0  Nigerians are so over COVID, they don’t even b...           False   \n",
       "1  Nigerians no even let covid settle. Is it here...           False   \n",
       "2  Covid was on holiday sha!!!! Awon alase https:...           False   \n",
       "3  Covid-19 is backBe careful guys. Use your mask...           False   \n",
       "4  COVId in Lagos - quite worrisome https://t.co/...           False   \n",
       "\n",
       "                                        tweet_source  \\\n",
       "0  <a href=\"http://twitter.com/download/iphone\" r...   \n",
       "1  <a href=\"http://twitter.com/download/android\" ...   \n",
       "2  <a href=\"http://twitter.com/download/iphone\" r...   \n",
       "3  <a href=\"http://twitter.com/download/android\" ...   \n",
       "4  <a href=\"http://twitter.com/download/iphone\" r...   \n",
       "\n",
       "  tweet_in_reply_to_status_id tweet_in_reply_to_status_id_str  \\\n",
       "0                        None                            None   \n",
       "1                        None                            None   \n",
       "2                        None                            None   \n",
       "3                        None                            None   \n",
       "4                        None                            None   \n",
       "\n",
       "  tweet_in_reply_to_user_id tweet_in_reply_to_user_id_str  ...  \\\n",
       "0                      None                          None  ...   \n",
       "1                      None                          None  ...   \n",
       "2                      None                          None  ...   \n",
       "3                      None                          None  ...   \n",
       "4                      None                          None  ...   \n",
       "\n",
       "  tweet_place_contained_within tweet_place_bounding_box_type  \\\n",
       "0                          NaN                       Polygon   \n",
       "1                          NaN                       Polygon   \n",
       "2                          NaN                       Polygon   \n",
       "3                          NaN                       Polygon   \n",
       "4                          NaN                       Polygon   \n",
       "\n",
       "                tweet_place_bounding_box_coordinates tweet_geo_type  \\\n",
       "0  [[[3.402322, 6.396264], [3.402322, 6.486797], ...            NaN   \n",
       "1  [[[3.402322, 6.396264], [3.402322, 6.486797], ...            NaN   \n",
       "2  [[[3.26291, 6.639331], [3.26291, 6.740074], [3...            NaN   \n",
       "3  [[[3.198942, 6.482676], [3.198942, 6.698546], ...            NaN   \n",
       "4  [[[3.198942, 6.482676], [3.198942, 6.698546], ...            NaN   \n",
       "\n",
       "  tweet_geo_coordinates tweet_coordinates_type tweet_coordinates_coordinates  \\\n",
       "0                   NaN                    NaN                           NaN   \n",
       "1                   NaN                    NaN                           NaN   \n",
       "2                   NaN                    NaN                           NaN   \n",
       "3                   NaN                    NaN                           NaN   \n",
       "4                   NaN                    NaN                           NaN   \n",
       "\n",
       "  tweet_lang tweet_full_text search_tweets  \n",
       "0         en             NaN         Covid  \n",
       "1         en             NaN         Covid  \n",
       "2         en             NaN         Covid  \n",
       "3         en             NaN         Covid  \n",
       "4         en             NaN         Covid  \n",
       "\n",
       "[5 rows x 38 columns]"
      ]
     },
     "execution_count": 4,
     "metadata": {},
     "output_type": "execute_result"
    }
   ],
   "source": [
    "tweets.head()"
   ]
  },
  {
   "cell_type": "code",
   "execution_count": 5,
   "id": "running-angel",
   "metadata": {},
   "outputs": [],
   "source": [
    "tweets['tweet_text'] = np.where((tweets.tweet_truncated == 'True'),tweets.tweet_full_text , tweets.tweet_text)"
   ]
  },
  {
   "cell_type": "code",
   "execution_count": 6,
   "id": "comic-uniform",
   "metadata": {},
   "outputs": [
    {
     "data": {
      "text/plain": [
       "['Nigerians are so over COVID, they don’t even bother to wear masks anymore.',\n",
       " 'Nigerians no even let covid settle. Is it here, is it there until we end am.',\n",
       " 'Covid was on holiday sha!!!! Awon alase https://t.co/WesAOJK1ls',\n",
       " 'Covid-19 is backBe careful guys. Use your masks, sanitize and wash your hands regular, and maintain social distancing',\n",
       " 'COVId in Lagos - quite worrisome https://t.co/pS0lhWF9ZP']"
      ]
     },
     "execution_count": 6,
     "metadata": {},
     "output_type": "execute_result"
    }
   ],
   "source": [
    "tweets['tweet_text'].tolist()[:5]"
   ]
  },
  {
   "cell_type": "code",
   "execution_count": 7,
   "id": "blessed-philip",
   "metadata": {},
   "outputs": [
    {
     "name": "stdout",
     "output_type": "stream",
     "text": [
      "['5g', 'alcohol', 'antibiotics', 'bleach', 'cold weather', 'snow', 'dexamethasone', 'drugs', 'garlic', 'hand dryers', 'holding your breath', 'hot climates', 'humid climates', 'hot weather', 'hot baths', 'hot peppers', 'houseflies', 'hydroxychloroquine', 'chloroquine', 'mask', 'co2 intoxication', 'exercise', 'medicines', 'methanol', 'ethanol', 'misinformation', 'mosquitoes', 'older people', 'old people', 'young people', 'younger people', 'pneumonia vaccines', 'recovery', 'recover', 'infection', 'saline', 'salt', 'shoes', 'sunny weather', 'hot weather', 'supplements', 'vitamins', 'minerals', 'swimming', 'thermal', 'scanners', 'ultra-violet (uv) lamps', 'viruses', 'bacteria', 'antibiotics', 'infodemic', 'disinformation', 'plandemic', 'vaccine', 'cure', 'chloroquine']\n"
     ]
    }
   ],
   "source": [
    "f = open('covid_keywords.txt', 'r+')\n",
    "covid_keywords = [keyword.lower().strip('\\n') for keyword in f.readlines()]\n",
    "f.close()\n",
    "\n",
    "print(covid_keywords)"
   ]
  },
  {
   "cell_type": "code",
   "execution_count": 8,
   "id": "checked-elephant",
   "metadata": {},
   "outputs": [],
   "source": [
    "#tweets[tweets.loc['tweet_text'].isin(covid_keywords)]"
   ]
  },
  {
   "cell_type": "code",
   "execution_count": 8,
   "id": "premium-slide",
   "metadata": {},
   "outputs": [
    {
     "data": {
      "text/plain": [
       "56"
      ]
     },
     "execution_count": 8,
     "metadata": {},
     "output_type": "execute_result"
    }
   ],
   "source": [
    "len(covid_keywords)"
   ]
  },
  {
   "cell_type": "code",
   "execution_count": 11,
   "id": "young-opening",
   "metadata": {},
   "outputs": [],
   "source": [
    "full_keywords = tweets[tweets['tweet_text'].str.contains('|'.join(covid_keywords))]['tweet_text']\n",
    "compression_opts = dict(method='zip', archive_name='tweets_with_keywords.csv') \n",
    "full_keywords.to_csv('tweets_with_keywords.zip', index=False, compression=compression_opts)"
   ]
  },
  {
   "cell_type": "code",
   "execution_count": 15,
   "id": "czech-looking",
   "metadata": {},
   "outputs": [
    {
     "name": "stdout",
     "output_type": "stream",
     "text": [
      "['Nigerians are so over COVID, they don’t even bother to wear masks anymore.', 'Covid-19 is backBe careful guys. Use your masks, sanitize and wash your hands regular, and maintain social distancing', '@TheBlackTCK Not at all. I don’t plan to go anywhere until something reasonable about covid comes through. Hopefully a vaccine soon  or miracle of miracles, Nigeria comes out of it like New Zealand 😂', 'I hope the authority notices this and launch a probe. Justice is a crocodile, it does not discriminate between the rich and the poor.You knock from house to house to recover covid-19 palliatives from hungry citizens but turns blind eyes on their oppressors. Shame! https://t.co/ghJwSegntY', 'Cristiano Ronaldo has recovered from COVID-19... The Greatness is back, the great one is back, real football is back']\n"
     ]
    }
   ],
   "source": [
    "full_keywords_list = full_keywords.tolist()"
   ]
  },
  {
   "cell_type": "code",
   "execution_count": 12,
   "id": "paperback-halloween",
   "metadata": {},
   "outputs": [],
   "source": [
    "import zipfile\n",
    "with zipfile.ZipFile(\"tweets_with_keywords.zip\",\"r\") as zip_ref:\n",
    "    zip_ref.extractall(\"tweets_with_keywords\")"
   ]
  },
  {
   "cell_type": "code",
   "execution_count": 9,
   "id": "black-samba",
   "metadata": {},
   "outputs": [
    {
     "name": "stdout",
     "output_type": "stream",
     "text": [
      "['Stop spreading fake news: the palliative was just handed over  to most state early this month by Coalition Against Covid-19 a private sector initiatives. The initiative is chair by Aliko Dangote.Your responsibility is to inform and not misinform. https://t.co/lTCmFN5pw0', \"A ware house in magboro almost got looted today on misinformation of same COVID 19 palliatives,  thank God the owner quickly got soldiers to come help protect the place, that's how person hard earned money will be looted under the guise of covid 19 palliatives\", '@DrOlufunmilayo Na waaaa, so this is how misinformation use to happen 🤒🤒🤒🤒 It wasn’t at the Covid 19 warehouse it’s was when they wanted to loot the customs office FGS. Kai', 'I went out to a nearby Market and I shit you not, the misinformation is riveting - worse than even the COVID madness.The protests are being discussed as a \"SARS vs Yahoo Boys\" face off - clearly because our pig heads in the local media are mute. Pathetic.', '@sagiru_ado @a_sabo12 @ICTAdvocates There are many misinformation about #Covid_19 so, government as well as non governmental organization have to work on this.']\n"
     ]
    }
   ],
   "source": [
    "# Create subset of tweets with the words - [disinformation, misinformation, fake news]\n",
    "misinfo_keywords = ['misinformation', 'misinform', 'disinformation', 'fake news']\n",
    "misinfo_tweets = tweets[tweets['tweet_text'].str.contains('|'.join(misinfo_keywords))]['tweet_text']\n",
    "print(misinfo_tweets.tolist()[:5])"
   ]
  },
  {
   "cell_type": "code",
   "execution_count": 10,
   "id": "thick-sydney",
   "metadata": {},
   "outputs": [],
   "source": [
    "compression_opts = dict(method='zip', archive_name='tweets_with_misinfo_keywords.csv') \n",
    "misinfo_tweets.to_csv('tweets_with_misinfo_keywords.zip', index=False, compression=compression_opts)"
   ]
  },
  {
   "cell_type": "code",
   "execution_count": 11,
   "id": "collectible-rabbit",
   "metadata": {},
   "outputs": [],
   "source": [
    "import zipfile\n",
    "with zipfile.ZipFile(\"tweets_with_misinfo_keywords.zip\",\"r\") as zip_ref:\n",
    "    zip_ref.extractall(\"tweets_with_misinfo_keywords\")"
   ]
  },
  {
   "cell_type": "code",
   "execution_count": 12,
   "id": "indirect-vulnerability",
   "metadata": {},
   "outputs": [
    {
     "data": {
      "text/plain": [
       "397"
      ]
     },
     "execution_count": 12,
     "metadata": {},
     "output_type": "execute_result"
    }
   ],
   "source": [
    "len(misinfo_tweets)"
   ]
  },
  {
   "cell_type": "code",
   "execution_count": null,
   "id": "backed-professor",
   "metadata": {},
   "outputs": [],
   "source": []
  }
 ],
 "metadata": {
  "kernelspec": {
   "display_name": "Python 3",
   "language": "python",
   "name": "python3"
  },
  "language_info": {
   "codemirror_mode": {
    "name": "ipython",
    "version": 3
   },
   "file_extension": ".py",
   "mimetype": "text/x-python",
   "name": "python",
   "nbconvert_exporter": "python",
   "pygments_lexer": "ipython3",
   "version": "3.8.6"
  }
 },
 "nbformat": 4,
 "nbformat_minor": 5
}
